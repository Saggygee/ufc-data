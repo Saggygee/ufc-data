{
 "cells": [
  {
   "cell_type": "markdown",
   "metadata": {},
   "source": [
    "| Model iteration | Error metrics | Result |\n",
    "| --- | --- | ---\n",
    "| Logistic regression, selected features| 10-fold CV, accuracy | 0.655|"
   ]
  },
  {
   "cell_type": "code",
   "execution_count": 6,
   "metadata": {},
   "outputs": [],
   "source": [
    "import pandas as pd\n",
    "import numpy as np\n",
    "\n",
    "import matplotlib.pyplot as plt\n",
    "\n",
    "from pprint import pprint\n",
    "from collections import defaultdict\n",
    "\n",
    "from sklearn.linear_model import LogisticRegression\n",
    "from sklearn.feature_selection import RFECV\n",
    "from sklearn.model_selection import GridSearchCV, StratifiedKFold, train_test_split\n",
    "from sklearn.metrics import accuracy_score, confusion_matrix, classification_report\n",
    "from sklearn.preprocessing import LabelEncoder, OneHotEncoder\n",
    "from sklearn.compose import ColumnTransformer\n",
    "from sklearn.pipeline import Pipeline\n",
    "\n",
    "from ufc import constants, load_data"
   ]
  },
  {
   "cell_type": "code",
   "execution_count": 8,
   "metadata": {},
   "outputs": [],
   "source": [
    "import pandas as pd\n",
    "from sklearn.model_selection import cross_val_predict, cross_val_score\n",
    "from sklearn.linear_model import LogisticRegression\n",
    "from sklearn.metrics import confusion_matrix, classification_report"
   ]
  },
  {
   "cell_type": "code",
   "execution_count": 5,
   "metadata": {},
   "outputs": [],
   "source": [
    "# Load data\n",
    "df = load_data.read_prepped_data()\n",
    "\n",
    "response = \"outcome\""
   ]
  },
  {
   "cell_type": "markdown",
   "metadata": {},
   "source": [
    "### Functions"
   ]
  },
  {
   "cell_type": "code",
   "execution_count": 72,
   "metadata": {},
   "outputs": [],
   "source": [
    "def test_logistic_regression(df, features, response, k):\n",
    "    # encode resposne\n",
    "    le = LabelEncoder()\n",
    "    df['outcome'] = le.fit_transform(df['outcome'])\n",
    "\n",
    "    # split X, y\n",
    "    X = df[features]\n",
    "    y = df[response]\n",
    "\n",
    "    # k-fold CV\n",
    "    cv = StratifiedKFold(n_splits=k, shuffle=True, random_state=constants.SEED)\n",
    "    cross_val_metrics = []\n",
    "\n",
    "    for train_idx, test_idx in cv.split(X, y):\n",
    "        X_train, X_test = X.iloc[train_idx], X.iloc[test_idx]\n",
    "        y_train, y_test = y.iloc[train_idx], y.iloc[test_idx]\n",
    "\n",
    "        logistic_model = LogisticRegression(solver='liblinear')\n",
    "\n",
    "        logistic_model.fit(X_train, y_train)\n",
    "        y_pred = logistic_model.predict(X_test)\n",
    "\n",
    "        accuracy = accuracy_score(y_test, y_pred)\n",
    "        conf_matrix = confusion_matrix(y_test, y_pred)\n",
    "        class_report = classification_report(y_test, y_pred)\n",
    "\n",
    "        cross_val_metrics.append({\n",
    "            'Accuracy': accuracy,\n",
    "            'Confusion Matrix': conf_matrix,\n",
    "            'Classification Report': class_report\n",
    "        })\n",
    "        \n",
    "    return cross_val_metrics"
   ]
  },
  {
   "cell_type": "code",
   "execution_count": 68,
   "metadata": {},
   "outputs": [],
   "source": [
    "def summarise_mean_cv_error(cross_val_metrics):\n",
    "    \"\"\"Summarise error metrics across folds\"\"\"\n",
    "    # Initialize lists to store individual metrics for each fold\n",
    "    accuracies = []\n",
    "    confusion_matrices = []\n",
    "\n",
    "    # Initialize dictionaries to store classification report metrics for each fold\n",
    "    precision = defaultdict(list)\n",
    "    recall = defaultdict(list)\n",
    "    f1_score = defaultdict(list)\n",
    "    support = defaultdict(list)\n",
    "\n",
    "    for fold in cross_val_metrics:\n",
    "        accuracies.append(fold['Accuracy'])\n",
    "        confusion_matrices.append(fold['Confusion Matrix'])\n",
    "\n",
    "        # Parse and accumulate classification report metrics\n",
    "        cr = fold['Classification Report'].split('\\n')\n",
    "        weighted_avg_index = next((i for i, s in enumerate(cr) if s.startswith('weighted avg')), None)\n",
    "        weighted_avg_cr = cr[weighted_avg_index].split()\n",
    "\n",
    "        label = weighted_avg_cr[0]\n",
    "        precision[label].append(float(weighted_avg_cr[-4]))\n",
    "        recall[label].append(float(weighted_avg_cr[-3]))\n",
    "        f1_score[label].append(float(weighted_avg_cr[-2]))\n",
    "        support[label].append(int(weighted_avg_cr[-1]))\n",
    "\n",
    "    # Calculate the mean accuracy\n",
    "    mean_accuracy = np.mean(accuracies)\n",
    "\n",
    "    # Calculate the mean confusion matrix\n",
    "    mean_confusion_matrix = np.mean(confusion_matrices, axis=0)\n",
    "\n",
    "    # Calculate the mean classification report metrics\n",
    "    mean_precision = {label: np.mean(precision[label]) for label in precision}['weighted']\n",
    "    mean_recall = {label: np.mean(recall[label]) for label in recall}[\"weighted\"]\n",
    "    mean_f1_score = {label: np.mean(f1_score[label]) for label in f1_score}[\"weighted\"]\n",
    "\n",
    "    mean_classification_report = {\n",
    "        \"Precision\": mean_precision,\n",
    "        \"Recall\": mean_recall,\n",
    "        \"F1 Score\": mean_f1_score,\n",
    "    }\n",
    "\n",
    "    return {\n",
    "        'Mean Accuracy': mean_accuracy,\n",
    "        'Mean Confusion Matrix': mean_confusion_matrix,\n",
    "        'Mean Classification Report': mean_classification_report\n",
    "    }"
   ]
  },
  {
   "cell_type": "markdown",
   "metadata": {},
   "source": [
    "### Test"
   ]
  },
  {
   "cell_type": "code",
   "execution_count": 70,
   "metadata": {},
   "outputs": [],
   "source": [
    "features = [\n",
    "    'delta_age',\n",
    "    'delta_sig_strikes_landed_pm', 'delta_sig_strikes_accuracy',\n",
    "    'delta_sig_strikes_absorbed_pm', 'delta_sig_strikes_defended',\n",
    "    'delta_takedown_avg_per15m', 'delta_takedown_accuracy',\n",
    "    'delta_takedown_defence', 'delta_submission_avg_attempted_per15m',\n",
    "]"
   ]
  },
  {
   "cell_type": "code",
   "execution_count": 75,
   "metadata": {},
   "outputs": [],
   "source": [
    "cross_val_metrics = test_logistic_regression(df, features, response, k=10)"
   ]
  },
  {
   "cell_type": "code",
   "execution_count": 76,
   "metadata": {},
   "outputs": [
    {
     "data": {
      "text/plain": [
       "{'Mean Accuracy': 0.6548902821316614,\n",
       " 'Mean Confusion Matrix': array([[102.4,  56. ],\n",
       "        [ 54.2, 106.7]]),\n",
       " 'Mean Classification Report': {'Precision': 0.6540000000000001,\n",
       "  'Recall': 0.6540000000000001,\n",
       "  'F1 Score': 0.6540000000000001}}"
      ]
     },
     "execution_count": 76,
     "metadata": {},
     "output_type": "execute_result"
    }
   ],
   "source": [
    "summarise_mean_cv_error(cross_val_metrics)"
   ]
  }
 ],
 "metadata": {
  "kernelspec": {
   "display_name": "env_general",
   "language": "python",
   "name": "python3"
  },
  "language_info": {
   "codemirror_mode": {
    "name": "ipython",
    "version": 3
   },
   "file_extension": ".py",
   "mimetype": "text/x-python",
   "name": "python",
   "nbconvert_exporter": "python",
   "pygments_lexer": "ipython3",
   "version": "3.11.5"
  }
 },
 "nbformat": 4,
 "nbformat_minor": 2
}
